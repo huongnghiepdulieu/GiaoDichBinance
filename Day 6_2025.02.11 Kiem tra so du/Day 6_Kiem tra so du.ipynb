{
 "cells": [
  {
   "cell_type": "code",
   "execution_count": 1,
   "metadata": {},
   "outputs": [
    {
     "name": "stdout",
     "output_type": "stream",
     "text": [
      "So du tai khoan Binance:\n",
      "USDT: 4.07180620\n",
      "NEAR: 2.09400000\n",
      "NFT: 189085.757996\n"
     ]
    }
   ],
   "source": [
    "from binance.client import Client\n",
    "\n",
    "# Nhap API Key & Secret Key (Thay bang thong tin cua ban)   \n",
    "api_key = \"ZMfECOLSFisfT8nANfEeYVTuP1omKcxeLhszfkiWnctqXkzO6uUATtuaZOWl3WR7\"\n",
    "api_secret = \"acoVYp155fIvhfK2xUwOstSa7aRHq98qyeA3g9IfKUFqhIuzcZGpI0k0mnBn6Dqe\"\n",
    "    \n",
    "# Ket noi voi Binance API   \n",
    "client = Client(api_key, api_secret)    \n",
    "    \n",
    "# Lay thong tin so du tai khoan \n",
    "account_info = client.get_account() \n",
    "    \n",
    "# Loc ra cac dong coin co so du > 0 \n",
    "balances = account_info['balances'] \n",
    "non_empty_balances = {balance['asset']: balance['free'] for balance in balances if float(balance['free']) > 0}  \n",
    "    \n",
    "# In ra ket qua \n",
    "print(\"So du tai khoan Binance:\")   \n",
    "for asset, amount in non_empty_balances.items():    \n",
    "   print(f\"{asset}: {amount}\")  \n",
    "       #     #     #     #     #     "
   ]
  }
 ],
 "metadata": {
  "kernelspec": {
   "display_name": "Python 3",
   "language": "python",
   "name": "python3"
  },
  "language_info": {
   "codemirror_mode": {
    "name": "ipython",
    "version": 3
   },
   "file_extension": ".py",
   "mimetype": "text/x-python",
   "name": "python",
   "nbconvert_exporter": "python",
   "pygments_lexer": "ipython3",
   "version": "3.12.1"
  }
 },
 "nbformat": 4,
 "nbformat_minor": 2
}
